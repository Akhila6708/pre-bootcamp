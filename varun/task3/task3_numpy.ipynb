{
  "nbformat": 4,
  "nbformat_minor": 0,
  "metadata": {
    "colab": {
      "provenance": []
    },
    "kernelspec": {
      "name": "python3",
      "display_name": "Python 3"
    },
    "language_info": {
      "name": "python"
    }
  },
  "cells": [
    {
      "cell_type": "code",
      "execution_count": 1,
      "metadata": {
        "id": "vp0lOmYLkYyk"
      },
      "outputs": [],
      "source": [
        "import numpy as np"
      ]
    },
    {
      "cell_type": "markdown",
      "source": [
        " Create a 2-dimensional array of size 2x3 with all elements set to 0"
      ],
      "metadata": {
        "id": "42vjJ0yplrQ-"
      }
    },
    {
      "cell_type": "code",
      "source": [
        "a=np.zeros((2,3))\n",
        "a"
      ],
      "metadata": {
        "colab": {
          "base_uri": "https://localhost:8080/"
        },
        "id": "5m17uRHTlMQh",
        "outputId": "716c0bcb-dfd9-4598-ed83-ebc541df24e1"
      },
      "execution_count": 3,
      "outputs": [
        {
          "output_type": "execute_result",
          "data": {
            "text/plain": [
              "array([[0., 0., 0.],\n",
              "       [0., 0., 0.]])"
            ]
          },
          "metadata": {},
          "execution_count": 3
        }
      ]
    },
    {
      "cell_type": "markdown",
      "source": [
        "Create a 1-dimensional array of size 10 with values ranging from 0 to 9"
      ],
      "metadata": {
        "id": "cuHC_tDclvsq"
      }
    },
    {
      "cell_type": "code",
      "source": [
        "b=np.arange(10)\n",
        "b"
      ],
      "metadata": {
        "colab": {
          "base_uri": "https://localhost:8080/"
        },
        "id": "vHndHBDplMOK",
        "outputId": "04da7452-49b7-40f1-8113-8edb7e65b83e"
      },
      "execution_count": 6,
      "outputs": [
        {
          "output_type": "execute_result",
          "data": {
            "text/plain": [
              "array([0, 1, 2, 3, 4, 5, 6, 7, 8, 9])"
            ]
          },
          "metadata": {},
          "execution_count": 6
        }
      ]
    },
    {
      "cell_type": "markdown",
      "source": [
        "Create a 2-dimensional array of size 3x3 with values ranging from 0 to 8"
      ],
      "metadata": {
        "id": "GoedelYMmEY7"
      }
    },
    {
      "cell_type": "code",
      "source": [
        "c=np.arange(0,9).reshape(3,3)\n",
        "c"
      ],
      "metadata": {
        "colab": {
          "base_uri": "https://localhost:8080/"
        },
        "id": "7zk6E1lYlMLv",
        "outputId": "55e1763d-09a3-473d-9926-b40afc28ca9f"
      },
      "execution_count": 8,
      "outputs": [
        {
          "output_type": "execute_result",
          "data": {
            "text/plain": [
              "array([[0, 1, 2],\n",
              "       [3, 4, 5],\n",
              "       [6, 7, 8]])"
            ]
          },
          "metadata": {},
          "execution_count": 8
        }
      ]
    },
    {
      "cell_type": "markdown",
      "source": [
        "Create a 1-dimensional array of size 5 with random integer values"
      ],
      "metadata": {
        "id": "9Xa5JzyknquD"
      }
    },
    {
      "cell_type": "code",
      "source": [
        "d=np.random.randint(0,500,size=5)\n",
        "d"
      ],
      "metadata": {
        "colab": {
          "base_uri": "https://localhost:8080/"
        },
        "id": "MYyEbn0ulMJH",
        "outputId": "e246a95f-4a60-49f3-a339-f8cdf7a868c0"
      },
      "execution_count": 19,
      "outputs": [
        {
          "output_type": "execute_result",
          "data": {
            "text/plain": [
              "array([ 58, 113, 223,  41, 441])"
            ]
          },
          "metadata": {},
          "execution_count": 19
        }
      ]
    },
    {
      "cell_type": "markdown",
      "source": [
        "Reshape a 1-dimensional array of size 9 into a 3x3 2-dimensional array"
      ],
      "metadata": {
        "id": "xcmw5L2GpH4k"
      }
    },
    {
      "cell_type": "code",
      "source": [
        "e=np.ones(9).reshape(3,3)\n",
        "e"
      ],
      "metadata": {
        "colab": {
          "base_uri": "https://localhost:8080/"
        },
        "id": "3WWKikwYlMBL",
        "outputId": "adf2e1e7-65f5-4047-8fa7-03c50f711560"
      },
      "execution_count": 24,
      "outputs": [
        {
          "output_type": "execute_result",
          "data": {
            "text/plain": [
              "array([[1., 1., 1.],\n",
              "       [1., 1., 1.],\n",
              "       [1., 1., 1.]])"
            ]
          },
          "metadata": {},
          "execution_count": 24
        }
      ]
    },
    {
      "cell_type": "markdown",
      "source": [
        " Create and concatenate two 1-dimensional arrays of size 3 into a single array of size 6"
      ],
      "metadata": {
        "id": "lcNkRpvzpxiQ"
      }
    },
    {
      "cell_type": "code",
      "source": [
        "f=np.array([4,5,6])\n",
        "g=np.array([7,8,9])"
      ],
      "metadata": {
        "id": "XliTUZdWlKxR"
      },
      "execution_count": 25,
      "outputs": []
    },
    {
      "cell_type": "code",
      "source": [
        "h=np.hstack((f,g))\n",
        "h"
      ],
      "metadata": {
        "colab": {
          "base_uri": "https://localhost:8080/"
        },
        "id": "f6ZEWnFlqDZb",
        "outputId": "418d7358-b411-46a4-9dbe-7efd28dd9117"
      },
      "execution_count": 27,
      "outputs": [
        {
          "output_type": "execute_result",
          "data": {
            "text/plain": [
              "array([4, 5, 6, 7, 8, 9])"
            ]
          },
          "metadata": {},
          "execution_count": 27
        }
      ]
    },
    {
      "cell_type": "markdown",
      "source": [
        "Perform element-wise addition, subtraction, multiplication, and division of two 2-dimensional arrays of size 3x3"
      ],
      "metadata": {
        "id": "f29sQ9B8qkZz"
      }
    },
    {
      "cell_type": "code",
      "source": [
        "i=np.arange(0,9).reshape(3,3)\n",
        "j=np.arange(10,19).reshape(3,3)\n",
        "i\n"
      ],
      "metadata": {
        "colab": {
          "base_uri": "https://localhost:8080/"
        },
        "id": "EUYIUJWfqgei",
        "outputId": "fe8c5e37-a33f-476e-c589-666dfbc13e99"
      },
      "execution_count": 39,
      "outputs": [
        {
          "output_type": "execute_result",
          "data": {
            "text/plain": [
              "array([[0, 1, 2],\n",
              "       [3, 4, 5],\n",
              "       [6, 7, 8]])"
            ]
          },
          "metadata": {},
          "execution_count": 39
        }
      ]
    },
    {
      "cell_type": "code",
      "source": [
        "j"
      ],
      "metadata": {
        "colab": {
          "base_uri": "https://localhost:8080/"
        },
        "id": "CJ06g5QisB2x",
        "outputId": "6f4330c2-f727-437c-bb0c-d4f8c7fce60d"
      },
      "execution_count": 40,
      "outputs": [
        {
          "output_type": "execute_result",
          "data": {
            "text/plain": [
              "array([[10, 11, 12],\n",
              "       [13, 14, 15],\n",
              "       [16, 17, 18]])"
            ]
          },
          "metadata": {},
          "execution_count": 40
        }
      ]
    },
    {
      "cell_type": "code",
      "source": [
        "k=i+j\n",
        "k\n"
      ],
      "metadata": {
        "colab": {
          "base_uri": "https://localhost:8080/"
        },
        "id": "2qHeYkn9qy1Q",
        "outputId": "b2c21f90-8166-4129-8636-4f25bd6604a5"
      },
      "execution_count": 36,
      "outputs": [
        {
          "output_type": "execute_result",
          "data": {
            "text/plain": [
              "array([[10, 12, 14],\n",
              "       [16, 18, 20],\n",
              "       [22, 24, 26]])"
            ]
          },
          "metadata": {},
          "execution_count": 36
        }
      ]
    },
    {
      "cell_type": "code",
      "source": [
        "l=i-j\n",
        "l\n",
        "\n"
      ],
      "metadata": {
        "colab": {
          "base_uri": "https://localhost:8080/"
        },
        "id": "OeXVJdL0rcBS",
        "outputId": "b47ef5f9-eead-4c95-adad-883a8c0399a8"
      },
      "execution_count": 37,
      "outputs": [
        {
          "output_type": "execute_result",
          "data": {
            "text/plain": [
              "array([[-10, -10, -10],\n",
              "       [-10, -10, -10],\n",
              "       [-10, -10, -10]])"
            ]
          },
          "metadata": {},
          "execution_count": 37
        }
      ]
    },
    {
      "cell_type": "code",
      "source": [
        "m=i@j\n",
        "m\n"
      ],
      "metadata": {
        "colab": {
          "base_uri": "https://localhost:8080/"
        },
        "id": "igMHlqtcr3wA",
        "outputId": "2cfda0a0-bb41-4967-8724-e768ccaa0819"
      },
      "execution_count": 38,
      "outputs": [
        {
          "output_type": "execute_result",
          "data": {
            "text/plain": [
              "array([[ 45,  48,  51],\n",
              "       [162, 174, 186],\n",
              "       [279, 300, 321]])"
            ]
          },
          "metadata": {},
          "execution_count": 38
        }
      ]
    },
    {
      "cell_type": "code",
      "source": [
        "n=i/j\n",
        "n"
      ],
      "metadata": {
        "colab": {
          "base_uri": "https://localhost:8080/"
        },
        "id": "GAqA00NEr8I2",
        "outputId": "0198e0d6-3022-4c09-b44d-4b9974c9ffcf"
      },
      "execution_count": 41,
      "outputs": [
        {
          "output_type": "execute_result",
          "data": {
            "text/plain": [
              "array([[0.        , 0.09090909, 0.16666667],\n",
              "       [0.23076923, 0.28571429, 0.33333333],\n",
              "       [0.375     , 0.41176471, 0.44444444]])"
            ]
          },
          "metadata": {},
          "execution_count": 41
        }
      ]
    },
    {
      "cell_type": "markdown",
      "source": [
        "Create and compute the dot product of two arrays"
      ],
      "metadata": {
        "id": "-Hu4WSGZsUmy"
      }
    },
    {
      "cell_type": "code",
      "source": [
        "o=np.arange(21,29)\n",
        "o"
      ],
      "metadata": {
        "colab": {
          "base_uri": "https://localhost:8080/"
        },
        "id": "yX6TFOrMsYS8",
        "outputId": "562a88d6-fc06-46de-e091-798ecb132116"
      },
      "execution_count": 42,
      "outputs": [
        {
          "output_type": "execute_result",
          "data": {
            "text/plain": [
              "array([21, 22, 23, 24, 25, 26, 27, 28])"
            ]
          },
          "metadata": {},
          "execution_count": 42
        }
      ]
    },
    {
      "cell_type": "code",
      "source": [
        "p=np.arange(30,38)\n",
        "p"
      ],
      "metadata": {
        "colab": {
          "base_uri": "https://localhost:8080/"
        },
        "id": "K64glymVsmCH",
        "outputId": "cdfa1184-97d2-46ae-f514-c2f72b7d1ca2"
      },
      "execution_count": 43,
      "outputs": [
        {
          "output_type": "execute_result",
          "data": {
            "text/plain": [
              "array([30, 31, 32, 33, 34, 35, 36, 37])"
            ]
          },
          "metadata": {},
          "execution_count": 43
        }
      ]
    },
    {
      "cell_type": "code",
      "source": [
        "p.dot(o)"
      ],
      "metadata": {
        "colab": {
          "base_uri": "https://localhost:8080/"
        },
        "id": "DwcHx0JPsr9S",
        "outputId": "732ae5c3-3d20-4afa-cada-e432ede335b5"
      },
      "execution_count": 44,
      "outputs": [
        {
          "output_type": "execute_result",
          "data": {
            "text/plain": [
              "6608"
            ]
          },
          "metadata": {},
          "execution_count": 44
        }
      ]
    },
    {
      "cell_type": "markdown",
      "source": [
        "Create and compute the sum, mean, and standard deviation of a 3-dimensional array of size 3x3x3.\n"
      ],
      "metadata": {
        "id": "3Rv0xuc8tJz3"
      }
    },
    {
      "cell_type": "code",
      "source": [
        "q=np.arange(0,27).reshape(3,3,3)\n",
        "q\n"
      ],
      "metadata": {
        "colab": {
          "base_uri": "https://localhost:8080/"
        },
        "id": "d7IwTheQtPFz",
        "outputId": "68dceccc-985e-4d1a-990c-aed6f3b8fc0f"
      },
      "execution_count": 55,
      "outputs": [
        {
          "output_type": "execute_result",
          "data": {
            "text/plain": [
              "array([[[ 0,  1,  2],\n",
              "        [ 3,  4,  5],\n",
              "        [ 6,  7,  8]],\n",
              "\n",
              "       [[ 9, 10, 11],\n",
              "        [12, 13, 14],\n",
              "        [15, 16, 17]],\n",
              "\n",
              "       [[18, 19, 20],\n",
              "        [21, 22, 23],\n",
              "        [24, 25, 26]]])"
            ]
          },
          "metadata": {},
          "execution_count": 55
        }
      ]
    },
    {
      "cell_type": "code",
      "source": [
        "sum=np.sum(q)\n",
        "sum"
      ],
      "metadata": {
        "colab": {
          "base_uri": "https://localhost:8080/"
        },
        "id": "dXxzGyeHtbbG",
        "outputId": "429b1000-6b04-4e06-b4c3-6cce21f15959"
      },
      "execution_count": 56,
      "outputs": [
        {
          "output_type": "execute_result",
          "data": {
            "text/plain": [
              "351"
            ]
          },
          "metadata": {},
          "execution_count": 56
        }
      ]
    },
    {
      "cell_type": "code",
      "source": [
        "mean=np.mean(q)\n",
        "mean"
      ],
      "metadata": {
        "colab": {
          "base_uri": "https://localhost:8080/"
        },
        "id": "FHBpvafuvNTv",
        "outputId": "ba87d9cd-1afc-4579-fc6e-6948ca19640e"
      },
      "execution_count": 57,
      "outputs": [
        {
          "output_type": "execute_result",
          "data": {
            "text/plain": [
              "13.0"
            ]
          },
          "metadata": {},
          "execution_count": 57
        }
      ]
    },
    {
      "cell_type": "code",
      "source": [
        "std=np.std(q)\n",
        "std"
      ],
      "metadata": {
        "colab": {
          "base_uri": "https://localhost:8080/"
        },
        "id": "LU2qm9UVvS0O",
        "outputId": "e0cbccef-a173-4765-d8a4-acf6885de820"
      },
      "execution_count": 58,
      "outputs": [
        {
          "output_type": "execute_result",
          "data": {
            "text/plain": [
              "7.788880963698615"
            ]
          },
          "metadata": {},
          "execution_count": 58
        }
      ]
    },
    {
      "cell_type": "code",
      "source": [],
      "metadata": {
        "id": "1v3yk8ErvYUZ"
      },
      "execution_count": null,
      "outputs": []
    }
  ]
}